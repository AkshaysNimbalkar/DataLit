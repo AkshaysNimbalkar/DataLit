{
 "cells": [
  {
   "cell_type": "code",
   "execution_count": 2,
   "metadata": {},
   "outputs": [
    {
     "name": "stdout",
     "output_type": "stream",
     "text": [
      "Collecting xgboost\n",
      "  Downloading https://files.pythonhosted.org/packages/51/c1/198915b13e98b62a98f48309c41012638464651da755d941f4abe384c012/xgboost-0.82-py2.py3-none-win_amd64.whl (7.7MB)\n",
      "Requirement already satisfied: numpy in c:\\users\\ikd\\anaconda3\\lib\\site-packages (from xgboost) (1.15.0)\n",
      "Requirement already satisfied: scipy in c:\\users\\ikd\\anaconda3\\lib\\site-packages (from xgboost) (1.1.0)\n",
      "Installing collected packages: xgboost\n",
      "Successfully installed xgboost-0.82\n"
     ]
    }
   ],
   "source": [
    "#! pip install xgboost"
   ]
  },
  {
   "cell_type": "code",
   "execution_count": 3,
   "metadata": {},
   "outputs": [
    {
     "name": "stdout",
     "output_type": "stream",
     "text": [
      "Accuracy: 77.95%\n"
     ]
    },
    {
     "name": "stderr",
     "output_type": "stream",
     "text": [
      "C:\\Users\\ikd\\Anaconda3\\lib\\site-packages\\sklearn\\preprocessing\\label.py:151: DeprecationWarning: The truth value of an empty array is ambiguous. Returning False, but in future this will result in an error. Use `array.size > 0` to check that an array is not empty.\n",
      "  if diff:\n"
     ]
    }
   ],
   "source": [
    "# First XGBoost model for Pima Indians dataset\n",
    "from numpy import loadtxt\n",
    "from xgboost import XGBClassifier\n",
    "from sklearn.model_selection import train_test_split\n",
    "from sklearn.metrics import accuracy_score\n",
    "# load data\n",
    "dataset = loadtxt('E:/DataScience_Study/3months/Data-Lit/week6-Supervised/XGBoost/pima-indians-diabetes.csv', delimiter=\",\")\n",
    "# split data into X and y\n",
    "X = dataset[:,0:8]\n",
    "Y = dataset[:,8]\n",
    "# split data into train and test sets\n",
    "seed = 7\n",
    "test_size = 0.33\n",
    "X_train, X_test, y_train, y_test = train_test_split(X, Y, test_size=test_size, random_state=seed)\n",
    "# fit model on training data\n",
    "model = XGBClassifier()\n",
    "model.fit(X_train, y_train)\n",
    "# make predictions for test data\n",
    "y_pred = model.predict(X_test)\n",
    "predictions = [round(value) for value in y_pred]\n",
    "# evaluate predictions\n",
    "accuracy = accuracy_score(y_test, predictions)\n",
    "print(\"Accuracy: %.2f%%\" % (accuracy * 100.0))"
   ]
  },
  {
   "cell_type": "markdown",
   "metadata": {},
   "source": [
    "# Monitor performanceand early stopping\n",
    "We can monitor performance of both test data while training model itself by passing early stoppage and setting verbose=True\n",
    "also we can report on binary classification error on eval_set i.e [X_test, y_test] in model.fit()\n",
    "We can use this evaluation to stop training once no further improvements have been made to the model."
   ]
  },
  {
   "cell_type": "code",
   "execution_count": 13,
   "metadata": {
    "scrolled": true
   },
   "outputs": [
    {
     "name": "stdout",
     "output_type": "stream",
     "text": [
      "[0]\tvalidation_0-logloss:0.660186\n",
      "Will train until validation_0-logloss hasn't improved in 10 rounds.\n",
      "[1]\tvalidation_0-logloss:0.634854\n",
      "[2]\tvalidation_0-logloss:0.61224\n",
      "[3]\tvalidation_0-logloss:0.593118\n",
      "[4]\tvalidation_0-logloss:0.578303\n",
      "[5]\tvalidation_0-logloss:0.564942\n",
      "[6]\tvalidation_0-logloss:0.555113\n",
      "[7]\tvalidation_0-logloss:0.54499\n",
      "[8]\tvalidation_0-logloss:0.539151\n",
      "[9]\tvalidation_0-logloss:0.531819\n",
      "[10]\tvalidation_0-logloss:0.526065\n",
      "[11]\tvalidation_0-logloss:0.519769\n",
      "[12]\tvalidation_0-logloss:0.514979\n",
      "[13]\tvalidation_0-logloss:0.50927\n",
      "[14]\tvalidation_0-logloss:0.506086\n",
      "[15]\tvalidation_0-logloss:0.503565\n",
      "[16]\tvalidation_0-logloss:0.503591\n",
      "[17]\tvalidation_0-logloss:0.500805\n",
      "[18]\tvalidation_0-logloss:0.497605\n",
      "[19]\tvalidation_0-logloss:0.495328\n",
      "[20]\tvalidation_0-logloss:0.494777\n",
      "[21]\tvalidation_0-logloss:0.494274\n",
      "[22]\tvalidation_0-logloss:0.493333\n",
      "[23]\tvalidation_0-logloss:0.492211\n",
      "[24]\tvalidation_0-logloss:0.491936\n",
      "[25]\tvalidation_0-logloss:0.490578\n",
      "[26]\tvalidation_0-logloss:0.490895\n",
      "[27]\tvalidation_0-logloss:0.490646\n",
      "[28]\tvalidation_0-logloss:0.491911\n",
      "[29]\tvalidation_0-logloss:0.491407\n",
      "[30]\tvalidation_0-logloss:0.488828\n",
      "[31]\tvalidation_0-logloss:0.487867\n",
      "[32]\tvalidation_0-logloss:0.487297\n",
      "[33]\tvalidation_0-logloss:0.487562\n",
      "[34]\tvalidation_0-logloss:0.487789\n",
      "[35]\tvalidation_0-logloss:0.487962\n",
      "[36]\tvalidation_0-logloss:0.488218\n",
      "[37]\tvalidation_0-logloss:0.489582\n",
      "[38]\tvalidation_0-logloss:0.489334\n",
      "[39]\tvalidation_0-logloss:0.490968\n",
      "[40]\tvalidation_0-logloss:0.48978\n",
      "[41]\tvalidation_0-logloss:0.490704\n",
      "[42]\tvalidation_0-logloss:0.492369\n",
      "Stopping. Best iteration:\n",
      "[32]\tvalidation_0-logloss:0.487297\n",
      "\n",
      "Accuracy: 77.56%\n"
     ]
    },
    {
     "name": "stderr",
     "output_type": "stream",
     "text": [
      "C:\\Users\\ikd\\Anaconda3\\lib\\site-packages\\sklearn\\preprocessing\\label.py:151: DeprecationWarning: The truth value of an empty array is ambiguous. Returning False, but in future this will result in an error. Use `array.size > 0` to check that an array is not empty.\n",
      "  if diff:\n"
     ]
    }
   ],
   "source": [
    "# exmaple of early stopping\n",
    "from numpy import loadtxt\n",
    "from xgboost import XGBClassifier\n",
    "from sklearn.model_selection import train_test_split\n",
    "from sklearn.metrics import accuracy_score\n",
    "# load data\n",
    "dataset = loadtxt('E:/DataScience_Study/3months/Data-Lit/week6-Supervised/XGBoost/pima-indians-diabetes.csv', delimiter=\",\")\n",
    "# split data into X and y\n",
    "X = dataset[:,0:8]\n",
    "Y = dataset[:,8]\n",
    "# split data into train and test sets\n",
    "seed = 7\n",
    "test_size = 0.33\n",
    "X_train, X_test, y_train, y_test = train_test_split(X, Y, test_size=test_size, random_state=seed)\n",
    "# fit model on training data\n",
    "model = XGBClassifier()\n",
    "eval_set = [(X_test, y_test)]\n",
    "model.fit(X_train, y_train, early_stopping_rounds=10, eval_metric=\"logloss\", eval_set=eval_set, verbose=True)\n",
    "# make predictions for test data\n",
    "y_pred = model.predict(X_test)\n",
    "predictions = [round(value) for value in y_pred]\n",
    "# evaluate predictions\n",
    "accuracy = accuracy_score(y_test, predictions)\n",
    "print(\"Accuracy: %.2f%%\" % (accuracy * 100.0))"
   ]
  },
  {
   "cell_type": "markdown",
   "metadata": {},
   "source": [
    "# Feature Importance with XGBoost"
   ]
  },
  {
   "cell_type": "code",
   "execution_count": 15,
   "metadata": {},
   "outputs": [
    {
     "name": "stdout",
     "output_type": "stream",
     "text": [
      "[0.08265495 0.34031582 0.05761176 0.08581445 0.07284074 0.14332853\n",
      " 0.08399398 0.13343978]\n"
     ]
    },
    {
     "data": {
      "image/png": "[encoded data removed]",
      "text/plain": [
       "<Figure size 432x288 with 1 Axes>"
      ]
     },
     "metadata": {
      "needs_background": "light"
     },
     "output_type": "display_data"
    }
   ],
   "source": [
    "\n",
    "# plot feature importance using built-in function\n",
    "from numpy import loadtxt\n",
    "from xgboost import XGBClassifier\n",
    "from xgboost import plot_importance\n",
    "from matplotlib import pyplot\n",
    "# load data\n",
    "dataset = loadtxt('E:/DataScience_Study/3months/Data-Lit/week6-Supervised/XGBoost/pima-indians-diabetes.csv', delimiter=\",\")\n",
    "# split data into X and y\n",
    "X = dataset[:,0:8]\n",
    "y = dataset[:,8]\n",
    "# fit model on training data\n",
    "model = XGBClassifier()\n",
    "model.fit(X, y)\n",
    "print(model.feature_importances_) # automatically calculates feature importance of predictive model\n",
    "# plot feature importance\n",
    "plot_importance(model) # plot functions order by their importance\n",
    "pyplot.show()"
   ]
  },
  {
   "cell_type": "markdown",
   "metadata": {},
   "source": [
    "#They can also be used as the basis for automatic feature selection techniques."
   ]
  },
  {
   "cell_type": "markdown",
   "metadata": {},
   "source": [
    "# Gradiant boosting on our problem: apply using below parameters:\n",
    "Learning rate ==  <=0.1 smaller values require nore trees\n",
    "tree_depth == 2 to 8 as much not benifit seen in higher depth\n",
    "subsample == 30% to 80% for training data\n",
    "\n",
    "#good general approach:\n",
    "Run default configurations review plots of learning curves on train and validation datasets\n",
    "IF system is overlearning: decrease learning rate or increase number of trees.\n",
    "IF system is underlearning: Increase learning rate or decrease number of trees\n",
    "\n",
    "#suggests to set the number of trees to a target value such as 100 or 1000, then tune the learning rate to find the best model. This is an efficient strategy for quickly finding a good model.\n"
   ]
  },
  {
   "cell_type": "markdown",
   "metadata": {},
   "source": [
    "# XGBoost Hyperparameter Tuning"
   ]
  },
  {
   "cell_type": "raw",
   "metadata": {},
   "source": [
    "# Scikit learn provides the capability to find combination of parameters.\n",
    "GridSearchCV() does this job of finding a good model for your problem.\n",
    "\n",
    "For example, we can define a grid of the number of trees (n_estimators) and tree sizes (max_depth) to evaluate by defining a grid as:\n",
    "\n",
    "n_estimators = [50, 100, 150, 200]\n",
    "max_depth = [2, 4, 6, 8]\n",
    "param_grid = dict(max_depth=max_depth, n_estimators=n_estimators)\n",
    "\n",
    "# And then evaluate each combination of parameters using 10-fold cross validation as:\n",
    "\n",
    "kfold = StratifiedKFold(n_splits=10, shuffle=True, random_state=7)\n",
    "grid_search = GridSearchCV(model, param_grid, scoring=\"neg_log_loss\", n_jobs=-1, cv=kfold, verbose=1)\n",
    "result = grid_search.fit(X, label_encoded_y)\n",
    "\n",
    "    # PARAMETERS CONSIDER TO TUNING ARE:\n",
    "    1. The number and size of trees (n_estimators and max_depth).\n",
    "    2. Learning Rate (learning_rate )\n",
    "    3. The row and column subsampling rates (subsample, colsample_bytree and colsample_bylevel).\n",
    "    "
   ]
  },
  {
   "cell_type": "code",
   "execution_count": 16,
   "metadata": {},
   "outputs": [
    {
     "name": "stdout",
     "output_type": "stream",
     "text": [
      "Best: -0.483304 using {'learning_rate': 0.1}\n",
      "-0.689811 (0.000475) with: {'learning_rate': 0.0001}\n",
      "-0.661827 (0.004625) with: {'learning_rate': 0.001}\n",
      "-0.531155 (0.028945) with: {'learning_rate': 0.01}\n",
      "-0.483304 (0.055151) with: {'learning_rate': 0.1}\n",
      "-0.515642 (0.061723) with: {'learning_rate': 0.2}\n",
      "-0.554158 (0.067557) with: {'learning_rate': 0.3}\n",
      "-0.683432 (0.101979) with: {'learning_rate': 0.5}\n",
      "-0.977163 (0.180315) with: {'learning_rate': 1}\n",
      "-12.741830 (3.379840) with: {'learning_rate': 10}\n"
     ]
    }
   ],
   "source": [
    "# Tune learning_rate\n",
    "from numpy import loadtxt\n",
    "from xgboost import XGBClassifier\n",
    "from sklearn.model_selection import GridSearchCV\n",
    "from sklearn.model_selection import StratifiedKFold\n",
    "# load data\n",
    "dataset = loadtxt('E:/DataScience_Study/3months/Data-Lit/week6-Supervised/XGBoost/pima-indians-diabetes.csv', delimiter=\",\")\n",
    "# split data into X and y\n",
    "X = dataset[:,0:8]\n",
    "Y = dataset[:,8]\n",
    "# grid search\n",
    "model = XGBClassifier()\n",
    "learning_rate = [0.0001, 0.001, 0.01, 0.1, 0.2, 0.3,0.5, 1, 10]\n",
    "param_grid = dict(learning_rate=learning_rate)\n",
    "kfold = StratifiedKFold(n_splits=10, shuffle=True, random_state=7)\n",
    "grid_search = GridSearchCV(model, param_grid, scoring=\"neg_log_loss\", n_jobs=-1, cv=kfold)\n",
    "grid_result = grid_search.fit(X, Y)\n",
    "# summarize results\n",
    "print(\"Best: %f using %s\" % (grid_result.best_score_, grid_result.best_params_))\n",
    "means = grid_result.cv_results_['mean_test_score']\n",
    "stds = grid_result.cv_results_['std_test_score']\n",
    "params = grid_result.cv_results_['params']\n",
    "for mean, stdev, param in zip(means, stds, params):\n",
    "\tprint(\"%f (%f) with: %r\" % (mean, stdev, param))"
   ]
  },
  {
   "cell_type": "code",
   "execution_count": null,
   "metadata": {},
   "outputs": [],
   "source": []
  }
 ],
 "metadata": {
  "kernelspec": {
   "display_name": "Python 3",
   "language": "python",
   "name": "python3"
  },
  "language_info": {
   "codemirror_mode": {
    "name": "ipython",
    "version": 3
   },
   "file_extension": ".py",
   "mimetype": "text/x-python",
   "name": "python",
   "nbconvert_exporter": "python",
   "pygments_lexer": "ipython3",
   "version": "3.7.0"
  }
 },
 "nbformat": 4,
 "nbformat_minor": 2
}
