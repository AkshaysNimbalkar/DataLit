{
  "nbformat": 4,
  "nbformat_minor": 0,
  "metadata": {
    "colab": {
      "name": "Recommendation_Autoencoder.ipynb",
      "version": "0.3.2",
      "provenance": [],
      "collapsed_sections": []
    },
    "kernelspec": {
      "name": "python3",
      "display_name": "Python 3"
    },
    "accelerator": "GPU"
  },
  "cells": [
    {
      "metadata": {
        "id": "Y-lDWDyP6qT5",
        "colab_type": "code",
        "colab": {}
      },
      "cell_type": "code",
      "source": [
        "import pandas as pd\n",
        "import numpy as np\n",
        "from sklearn.model_selection import train_test_split\n",
        "import torch\n",
        "import torch.nn as nn\n",
        "import torch.nn.parallel\n",
        "import torch.optim as optim\n",
        "import torch.utils.data\n",
        "from torch.autograd import Variable"
      ],
      "execution_count": 0,
      "outputs": []
    },
    {
      "metadata": {
        "id": "vlITkhaj6QFu",
        "colab_type": "code",
        "colab": {}
      },
      "cell_type": "code",
      "source": [
        "movies_url = \"https://raw.githubusercontent.com/AkshaysNimbalkar/-100daysofMLCode/master/day15_16%2C_17/movies.dat\"\n",
        "ratings_url = \"https://raw.githubusercontent.com/AkshaysNimbalkar/-100daysofMLCode/master/day15_16%2C_17/ratings.dat\"\n",
        "users_url = \"https://raw.githubusercontent.com/AkshaysNimbalkar/-100daysofMLCode/master/day15_16%2C_17/users.dat\""
      ],
      "execution_count": 0,
      "outputs": []
    },
    {
      "metadata": {
        "id": "4fWHIHQ66n6V",
        "colab_type": "code",
        "colab": {
          "base_uri": "https://localhost:8080/",
          "height": 258
        },
        "outputId": "160fa04a-702b-4c0b-9b4c-256238b8cf07"
      },
      "cell_type": "code",
      "source": [
        "movies_df = pd.read_csv(movies_url, sep='::', names=['MovieId', 'Title', 'Genre'], encoding=\"ISO-8859-1\")  \n",
        "movies_df.head()\n"
      ],
      "execution_count": 7,
      "outputs": [
        {
          "output_type": "stream",
          "text": [
            "/usr/local/lib/python3.6/dist-packages/ipykernel_launcher.py:1: ParserWarning: Falling back to the 'python' engine because the 'c' engine does not support regex separators (separators > 1 char and different from '\\s+' are interpreted as regex); you can avoid this warning by specifying engine='python'.\n",
            "  \"\"\"Entry point for launching an IPython kernel.\n"
          ],
          "name": "stderr"
        },
        {
          "output_type": "execute_result",
          "data": {
            "text/html": [
              "<div>\n",
              "<style scoped>\n",
              "    .dataframe tbody tr th:only-of-type {\n",
              "        vertical-align: middle;\n",
              "    }\n",
              "\n",
              "    .dataframe tbody tr th {\n",
              "        vertical-align: top;\n",
              "    }\n",
              "\n",
              "    .dataframe thead th {\n",
              "        text-align: right;\n",
              "    }\n",
              "</style>\n",
              "<table border=\"1\" class=\"dataframe\">\n",
              "  <thead>\n",
              "    <tr style=\"text-align: right;\">\n",
              "      <th></th>\n",
              "      <th>MovieId</th>\n",
              "      <th>Title</th>\n",
              "      <th>Genre</th>\n",
              "    </tr>\n",
              "  </thead>\n",
              "  <tbody>\n",
              "    <tr>\n",
              "      <th>0</th>\n",
              "      <td>1</td>\n",
              "      <td>Toy Story (1995)</td>\n",
              "      <td>Animation|Children's|Comedy</td>\n",
              "    </tr>\n",
              "    <tr>\n",
              "      <th>1</th>\n",
              "      <td>2</td>\n",
              "      <td>Jumanji (1995)</td>\n",
              "      <td>Adventure|Children's|Fantasy</td>\n",
              "    </tr>\n",
              "    <tr>\n",
              "      <th>2</th>\n",
              "      <td>3</td>\n",
              "      <td>Grumpier Old Men (1995)</td>\n",
              "      <td>Comedy|Romance</td>\n",
              "    </tr>\n",
              "    <tr>\n",
              "      <th>3</th>\n",
              "      <td>4</td>\n",
              "      <td>Waiting to Exhale (1995)</td>\n",
              "      <td>Comedy|Drama</td>\n",
              "    </tr>\n",
              "    <tr>\n",
              "      <th>4</th>\n",
              "      <td>5</td>\n",
              "      <td>Father of the Bride Part II (1995)</td>\n",
              "      <td>Comedy</td>\n",
              "    </tr>\n",
              "  </tbody>\n",
              "</table>\n",
              "</div>"
            ],
            "text/plain": [
              "   MovieId                               Title                         Genre\n",
              "0        1                    Toy Story (1995)   Animation|Children's|Comedy\n",
              "1        2                      Jumanji (1995)  Adventure|Children's|Fantasy\n",
              "2        3             Grumpier Old Men (1995)                Comedy|Romance\n",
              "3        4            Waiting to Exhale (1995)                  Comedy|Drama\n",
              "4        5  Father of the Bride Part II (1995)                        Comedy"
            ]
          },
          "metadata": {
            "tags": []
          },
          "execution_count": 7
        }
      ]
    },
    {
      "metadata": {
        "id": "Zed-12WY_Pur",
        "colab_type": "text"
      },
      "cell_type": "markdown",
      "source": [
        "# Ratings are in following format:\n",
        "UserId::MovieId::Rating::Timestamp\n",
        "\n",
        "-UserId range betwen 1 and 6040\n",
        "-MovieId range between 1 and 3952\n",
        "-Ratings are made on sclae of 5 star (Whole star ratings only)\n",
        "-Timestamp is in seconds since the epoch as returned by time(2)\n",
        "-Each user has at least 20 ratings\n"
      ]
    },
    {
      "metadata": {
        "id": "CSPfkMSl7n5a",
        "colab_type": "code",
        "colab": {
          "base_uri": "https://localhost:8080/",
          "height": 258
        },
        "outputId": "b6b3e86e-9102-4be6-d0f9-25e7b98e232e"
      },
      "cell_type": "code",
      "source": [
        "ratings_df = pd.read_csv(ratings_url, sep='::', names=['UserId', 'MovieId', 'Rating', 'Timestamp'], encoding=\"ISO-8859-1\")  \n",
        "ratings_df.head()"
      ],
      "execution_count": 8,
      "outputs": [
        {
          "output_type": "stream",
          "text": [
            "/usr/local/lib/python3.6/dist-packages/ipykernel_launcher.py:1: ParserWarning: Falling back to the 'python' engine because the 'c' engine does not support regex separators (separators > 1 char and different from '\\s+' are interpreted as regex); you can avoid this warning by specifying engine='python'.\n",
            "  \"\"\"Entry point for launching an IPython kernel.\n"
          ],
          "name": "stderr"
        },
        {
          "output_type": "execute_result",
          "data": {
            "text/html": [
              "<div>\n",
              "<style scoped>\n",
              "    .dataframe tbody tr th:only-of-type {\n",
              "        vertical-align: middle;\n",
              "    }\n",
              "\n",
              "    .dataframe tbody tr th {\n",
              "        vertical-align: top;\n",
              "    }\n",
              "\n",
              "    .dataframe thead th {\n",
              "        text-align: right;\n",
              "    }\n",
              "</style>\n",
              "<table border=\"1\" class=\"dataframe\">\n",
              "  <thead>\n",
              "    <tr style=\"text-align: right;\">\n",
              "      <th></th>\n",
              "      <th>UserId</th>\n",
              "      <th>MovieId</th>\n",
              "      <th>Rating</th>\n",
              "      <th>Timestamp</th>\n",
              "    </tr>\n",
              "  </thead>\n",
              "  <tbody>\n",
              "    <tr>\n",
              "      <th>0</th>\n",
              "      <td>1</td>\n",
              "      <td>1193</td>\n",
              "      <td>5</td>\n",
              "      <td>978300760</td>\n",
              "    </tr>\n",
              "    <tr>\n",
              "      <th>1</th>\n",
              "      <td>1</td>\n",
              "      <td>661</td>\n",
              "      <td>3</td>\n",
              "      <td>978302109</td>\n",
              "    </tr>\n",
              "    <tr>\n",
              "      <th>2</th>\n",
              "      <td>1</td>\n",
              "      <td>914</td>\n",
              "      <td>3</td>\n",
              "      <td>978301968</td>\n",
              "    </tr>\n",
              "    <tr>\n",
              "      <th>3</th>\n",
              "      <td>1</td>\n",
              "      <td>3408</td>\n",
              "      <td>4</td>\n",
              "      <td>978300275</td>\n",
              "    </tr>\n",
              "    <tr>\n",
              "      <th>4</th>\n",
              "      <td>1</td>\n",
              "      <td>2355</td>\n",
              "      <td>5</td>\n",
              "      <td>978824291</td>\n",
              "    </tr>\n",
              "  </tbody>\n",
              "</table>\n",
              "</div>"
            ],
            "text/plain": [
              "   UserId  MovieId  Rating  Timestamp\n",
              "0       1     1193       5  978300760\n",
              "1       1      661       3  978302109\n",
              "2       1      914       3  978301968\n",
              "3       1     3408       4  978300275\n",
              "4       1     2355       5  978824291"
            ]
          },
          "metadata": {
            "tags": []
          },
          "execution_count": 8
        }
      ]
    },
    {
      "metadata": {
        "id": "HQmxgkFD860Z",
        "colab_type": "code",
        "colab": {
          "base_uri": "https://localhost:8080/",
          "height": 258
        },
        "outputId": "5b9ca883-cc17-4e0c-91ac-1174530d5cd8"
      },
      "cell_type": "code",
      "source": [
        "users_df = pd.read_csv(users_url, sep='::', names=['UserId', 'Gender', 'Age', 'Occupation', 'Zip-Code'], encoding=\"ISO-8859-1\")  \n",
        "users_df.head()"
      ],
      "execution_count": 9,
      "outputs": [
        {
          "output_type": "stream",
          "text": [
            "/usr/local/lib/python3.6/dist-packages/ipykernel_launcher.py:1: ParserWarning: Falling back to the 'python' engine because the 'c' engine does not support regex separators (separators > 1 char and different from '\\s+' are interpreted as regex); you can avoid this warning by specifying engine='python'.\n",
            "  \"\"\"Entry point for launching an IPython kernel.\n"
          ],
          "name": "stderr"
        },
        {
          "output_type": "execute_result",
          "data": {
            "text/html": [
              "<div>\n",
              "<style scoped>\n",
              "    .dataframe tbody tr th:only-of-type {\n",
              "        vertical-align: middle;\n",
              "    }\n",
              "\n",
              "    .dataframe tbody tr th {\n",
              "        vertical-align: top;\n",
              "    }\n",
              "\n",
              "    .dataframe thead th {\n",
              "        text-align: right;\n",
              "    }\n",
              "</style>\n",
              "<table border=\"1\" class=\"dataframe\">\n",
              "  <thead>\n",
              "    <tr style=\"text-align: right;\">\n",
              "      <th></th>\n",
              "      <th>UserId</th>\n",
              "      <th>Gender</th>\n",
              "      <th>Age</th>\n",
              "      <th>Occupation</th>\n",
              "      <th>Zip-Code</th>\n",
              "    </tr>\n",
              "  </thead>\n",
              "  <tbody>\n",
              "    <tr>\n",
              "      <th>0</th>\n",
              "      <td>1</td>\n",
              "      <td>F</td>\n",
              "      <td>1</td>\n",
              "      <td>10</td>\n",
              "      <td>48067</td>\n",
              "    </tr>\n",
              "    <tr>\n",
              "      <th>1</th>\n",
              "      <td>2</td>\n",
              "      <td>M</td>\n",
              "      <td>56</td>\n",
              "      <td>16</td>\n",
              "      <td>70072</td>\n",
              "    </tr>\n",
              "    <tr>\n",
              "      <th>2</th>\n",
              "      <td>3</td>\n",
              "      <td>M</td>\n",
              "      <td>25</td>\n",
              "      <td>15</td>\n",
              "      <td>55117</td>\n",
              "    </tr>\n",
              "    <tr>\n",
              "      <th>3</th>\n",
              "      <td>4</td>\n",
              "      <td>M</td>\n",
              "      <td>45</td>\n",
              "      <td>7</td>\n",
              "      <td>02460</td>\n",
              "    </tr>\n",
              "    <tr>\n",
              "      <th>4</th>\n",
              "      <td>5</td>\n",
              "      <td>M</td>\n",
              "      <td>25</td>\n",
              "      <td>20</td>\n",
              "      <td>55455</td>\n",
              "    </tr>\n",
              "  </tbody>\n",
              "</table>\n",
              "</div>"
            ],
            "text/plain": [
              "   UserId Gender  Age  Occupation Zip-Code\n",
              "0       1      F    1          10    48067\n",
              "1       2      M   56          16    70072\n",
              "2       3      M   25          15    55117\n",
              "3       4      M   45           7    02460\n",
              "4       5      M   25          20    55455"
            ]
          },
          "metadata": {
            "tags": []
          },
          "execution_count": 9
        }
      ]
    },
    {
      "metadata": {
        "id": "yeAcQzTR9g6S",
        "colab_type": "code",
        "colab": {
          "base_uri": "https://localhost:8080/",
          "height": 51
        },
        "outputId": "25a15371-4bd0-400b-c562-06ab8d4b35d1"
      },
      "cell_type": "code",
      "source": [
        "print(movies_df.shape)\n",
        "print(users_df.shape)"
      ],
      "execution_count": 10,
      "outputs": [
        {
          "output_type": "stream",
          "text": [
            "(3883, 3)\n",
            "(6040, 5)\n"
          ],
          "name": "stdout"
        }
      ]
    },
    {
      "metadata": {
        "id": "IaOaQnprJiLp",
        "colab_type": "code",
        "colab": {
          "base_uri": "https://localhost:8080/",
          "height": 51
        },
        "outputId": "59368f0c-83af-4682-bfb6-69c81b508b4e"
      },
      "cell_type": "code",
      "source": [
        "num_movies = max(movies_df.iloc[:,0]) + 1\n",
        "num_users = max(users_df.iloc[:,0]) + 1\n",
        "\n",
        "print(\"Num of Movies: \",num_movies)\n",
        "print(\"Num of Users: \",num_users)"
      ],
      "execution_count": 11,
      "outputs": [
        {
          "output_type": "stream",
          "text": [
            "Num of Movies:  3953\n",
            "Num of Users:  6041\n"
          ],
          "name": "stdout"
        }
      ]
    },
    {
      "metadata": {
        "id": "6DE8ZwZ7KU6k",
        "colab_type": "code",
        "colab": {
          "base_uri": "https://localhost:8080/",
          "height": 136
        },
        "outputId": "b67cff47-7dcf-4060-d983-6066d710b1b2"
      },
      "cell_type": "code",
      "source": [
        "# now will create a matrix where rows as users and columns as movies:\n",
        "\n",
        "# np.zeros returns array with given shape, d-type and filled with zeros ex. np.zeros(shape, d-type, order)\n",
        "# shape(num_users, num_movies), d-type = default is float, order = {'C':'F'} default row-major (C-style) or column-major (Fortran-style) \n",
        "\n",
        "user_ratings = np.zeros((num_users, num_movies))\n",
        "user_ratings"
      ],
      "execution_count": 15,
      "outputs": [
        {
          "output_type": "execute_result",
          "data": {
            "text/plain": [
              "array([[0., 0., 0., ..., 0., 0., 0.],\n",
              "       [0., 0., 0., ..., 0., 0., 0.],\n",
              "       [0., 0., 0., ..., 0., 0., 0.],\n",
              "       ...,\n",
              "       [0., 0., 0., ..., 0., 0., 0.],\n",
              "       [0., 0., 0., ..., 0., 0., 0.],\n",
              "       [0., 0., 0., ..., 0., 0., 0.]])"
            ]
          },
          "metadata": {
            "tags": []
          },
          "execution_count": 15
        }
      ]
    },
    {
      "metadata": {
        "id": "Y1gcbBFTinq1",
        "colab_type": "code",
        "colab": {}
      },
      "cell_type": "code",
      "source": [
        "#%%timeit : 1 loop, best of 3: 1min 20s per loop\n",
        "\n",
        "for index, row in ratings_df.iterrows():\n",
        "    user_id = row[\"UserId\"]\n",
        "    movie_id = row[\"MovieId\"]\n",
        "    rating = row['Rating']\n",
        "    user_ratings[user_id, movie_id] = rating"
      ],
      "execution_count": 0,
      "outputs": []
    },
    {
      "metadata": {
        "id": "VczM_t0_Ixn0",
        "colab_type": "code",
        "colab": {
          "base_uri": "https://localhost:8080/",
          "height": 136
        },
        "outputId": "9d9c03d6-559b-4afb-8b32-2043f31b7e65"
      },
      "cell_type": "code",
      "source": [
        "user_ratings"
      ],
      "execution_count": 18,
      "outputs": [
        {
          "output_type": "execute_result",
          "data": {
            "text/plain": [
              "array([[0., 0., 0., ..., 0., 0., 0.],\n",
              "       [0., 5., 0., ..., 0., 0., 0.],\n",
              "       [0., 0., 0., ..., 0., 0., 0.],\n",
              "       ...,\n",
              "       [0., 0., 0., ..., 0., 0., 0.],\n",
              "       [0., 0., 0., ..., 0., 0., 0.],\n",
              "       [0., 3., 0., ..., 0., 0., 0.]])"
            ]
          },
          "metadata": {
            "tags": []
          },
          "execution_count": 18
        }
      ]
    },
    {
      "metadata": {
        "id": "qkf6gdUDJOZj",
        "colab_type": "code",
        "colab": {
          "base_uri": "https://localhost:8080/",
          "height": 34
        },
        "outputId": "0fc7a9b1-6255-4827-92f4-0d296d8baebd"
      },
      "cell_type": "code",
      "source": [
        "# split data into training and test set\n",
        "\n",
        "training_set, test_set = train_test_split(user_ratings, test_size=0.2)\n",
        "print(len(training_set), len(test_set))"
      ],
      "execution_count": 19,
      "outputs": [
        {
          "output_type": "stream",
          "text": [
            "4832 1209\n"
          ],
          "name": "stdout"
        }
      ]
    },
    {
      "metadata": {
        "id": "aAeeje7Cf8MK",
        "colab_type": "code",
        "colab": {
          "base_uri": "https://localhost:8080/",
          "height": 34
        },
        "outputId": "eac67e85-6584-47f8-a441-d67471cd2d7f"
      },
      "cell_type": "code",
      "source": [
        "# Converting numpy arrays(training and test set) into pytorch tensors and detect gpu\n",
        "\n",
        "device = torch.device(\"cuda:0\" if torch.cuda.is_available() else \"cpu\")\n",
        "training_set = torch.Tensor(training_set)\n",
        "test_set = torch.Tensor(test_set)\n",
        "print(device)"
      ],
      "execution_count": 21,
      "outputs": [
        {
          "output_type": "stream",
          "text": [
            "cuda:0\n"
          ],
          "name": "stdout"
        }
      ]
    },
    {
      "metadata": {
        "id": "HtZZ65uLUuAY",
        "colab_type": "code",
        "colab": {}
      },
      "cell_type": "code",
      "source": [
        "# Defining Hyperparameters: Theses are the parameters which you can experiments in order to improve accurasy.\n",
        "\n",
        "HIDDEN_OUTER_SIZE = 128 # no of neurons in outer hidden layer\n",
        "HIDDEN_INNER_SIZE = 128 # no of neurons in inner hidden layer/bottleneck\n",
        "BATCH_SIZE = 16\n",
        "NUM_EPOCHS = 50 # total number of passes will make over training data\n",
        "LEARNING_RATE = 0.0001 # how much weights change in each step of back-propogation: tto high you will miss optimum value too low you will never reach\n",
        "\n",
        "# WEIGHT_DECAY (regularization): makes training bit more stable, reduce over-fitting\n",
        "WEIGHT_DECAY = 0.005"
      ],
      "execution_count": 0,
      "outputs": []
    },
    {
      "metadata": {
        "id": "J_qIbfagUlk9",
        "colab_type": "code",
        "colab": {}
      },
      "cell_type": "code",
      "source": [
        "# Define neural network(Deep encoder)\n",
        "\n",
        "class DAE(nn.Module):\n",
        "  def __init__(self):\n",
        "    \n",
        "    # initialize pytorch neural network module\n",
        "    super(DAE, self).__init__()\n",
        "    \n",
        "    # FIRST argument of linear is input size and second is output size\n",
        "    # We are defining 3 hidden layers and 1 output layer\n",
        "    self.fc1 = nn.Linear(num_movies, HIDDEN_OUTER_SIZE)\n",
        "    self.fc2 = nn.Linear(HIDDEN_OUTER_SIZE, HIDDEN_INNER_SIZE)\n",
        "    self.fc3 = nn.Linear(HIDDEN_INNER_SIZE, HIDDEN_OUTER_SIZE)\n",
        "    self.fc4 = nn.Linear(HIDDEN_OUTER_SIZE, num_movies)\n",
        "    self.activation = nn.Sigmoid()\n",
        "   \n",
        "  def forward(self, x):\n",
        "    x = self.activation(self.fc1(x))\n",
        "    x = self.activation(self.fc2(x))\n",
        "    x = self.activation(self.fc3(x))\n",
        "    x = self.fc4(x)\n",
        "    return x\n",
        "\n",
        "# Define Loss Function:\n",
        "# This is mean squared error, but avaraged by actual number of rated movies instead of averageding by Total number of movies:\n",
        "\n",
        "def mse_loss_masked(input, target, num_labels):\n",
        "  return torch.div(torch.sum((input - target)**2), num_labels)\n",
        "  \n",
        "\n"
      ],
      "execution_count": 0,
      "outputs": []
    },
    {
      "metadata": {
        "id": "Htu5w4xhbJpd",
        "colab_type": "code",
        "colab": {}
      },
      "cell_type": "code",
      "source": [
        "dae = DAE()\n",
        "\n",
        "# Assign the model to selected devices:(CUDA or CPU)\n",
        "dae.to(device)\n",
        "\n",
        "#Adam optimizer\n",
        "optimizer = optim.Adam(dae.parameters(), lr=LEARNING_RATE, weight_decay=WEIGHT_DECAY)\n"
      ],
      "execution_count": 0,
      "outputs": []
    },
    {
      "metadata": {
        "id": "Wdfx9C6RjfW0",
        "colab_type": "code",
        "colab": {
          "base_uri": "https://localhost:8080/",
          "height": 867
        },
        "outputId": "3f090d22-b236-4afd-b52b-6b91c217018a"
      },
      "cell_type": "code",
      "source": [
        "# Train the Model\n",
        "\n",
        "for epoch in range(1, NUM_EPOCHS + 1):\n",
        "  train_loss = 0\n",
        "  \n",
        "  # number of users who at least rated one movie to reduce the computation\n",
        "  step = 0\n",
        "  row_idx = 0\n",
        "  \n",
        "  while row_idx < len(training_set):\n",
        "    \n",
        "    # add empty dimension for batch size of 1\n",
        "    input = training_set[row_idx:row_idx + BATCH_SIZE, :]\n",
        "    \n",
        "    # target is copy of input\n",
        "    target = input.clone()\n",
        "    \n",
        "    # we must send input and target to correct device\n",
        "    input, target = input.to(device), target.to(device)\n",
        "    \n",
        "    # since target is clone of input we dont need to calculate its gradient\n",
        "    target.require_grad = False\n",
        "    \n",
        "    # number of movies where rating is not zero\n",
        "    num_labels = torch.sum(target > 0)\n",
        "    \n",
        "    # if user has rated at least one movie:\n",
        "    if num_labels > 0:\n",
        "      \n",
        "      # get predicted rating for this user\n",
        "      output = dae(input)\n",
        "      \n",
        "      # Zero out the predicted ratings for any movies the user hasnt rated\n",
        "      # we dont want in this loss calculation\n",
        "      \n",
        "      output[target == 0] = 0\n",
        "      loss = mse_loss_masked(output, target, num_labels)\n",
        "      loss_value = loss.detach().cpu().numpy()\n",
        "      train_loss += loss_value \n",
        "      \n",
        "      # bcakpropogate the loss gradient into the network:\n",
        "      loss.backward()\n",
        "      \n",
        "      # run optimizer to update the weights\n",
        "      optimizer.step()\n",
        "      step += 1\n",
        "    row_idx += BATCH_SIZE\n",
        "  print('epoch: ' + str(epoch) + ' loss:'+ str(train_loss/step))  "
      ],
      "execution_count": 43,
      "outputs": [
        {
          "output_type": "stream",
          "text": [
            "epoch: 1 loss:5.575309000662621\n",
            "epoch: 2 loss:3.3353951166797158\n",
            "epoch: 3 loss:2.911176588756359\n",
            "epoch: 4 loss:2.6960284295461037\n",
            "epoch: 5 loss:2.7004466333136654\n",
            "epoch: 6 loss:2.884063443600737\n",
            "epoch: 7 loss:2.6708520548233134\n",
            "epoch: 8 loss:2.3432257384653914\n",
            "epoch: 9 loss:1.9571518720380519\n",
            "epoch: 10 loss:1.8787035922341\n",
            "epoch: 11 loss:1.843202328839839\n",
            "epoch: 12 loss:1.7748417206947378\n",
            "epoch: 13 loss:1.4886377552487202\n",
            "epoch: 14 loss:1.5036247609466906\n",
            "epoch: 15 loss:1.6326644783777906\n",
            "epoch: 16 loss:1.463016581456393\n",
            "epoch: 17 loss:1.6062133055649057\n",
            "epoch: 18 loss:1.5320140344417648\n",
            "epoch: 19 loss:1.534221995350541\n",
            "epoch: 20 loss:1.5677885468432446\n",
            "epoch: 21 loss:1.5997351305374246\n",
            "epoch: 22 loss:1.670418052483868\n",
            "epoch: 23 loss:1.7102988741255754\n",
            "epoch: 24 loss:1.8096032130797177\n",
            "epoch: 25 loss:1.7918168657662852\n",
            "epoch: 26 loss:1.7865007614457844\n",
            "epoch: 27 loss:1.730126184738235\n",
            "epoch: 28 loss:1.6998579221845462\n",
            "epoch: 29 loss:1.6600994819047434\n",
            "epoch: 30 loss:1.5853737829536791\n",
            "epoch: 31 loss:1.5831336181684834\n",
            "epoch: 32 loss:1.566473380619327\n",
            "epoch: 33 loss:1.5877413627327672\n",
            "epoch: 34 loss:1.595754509730055\n",
            "epoch: 35 loss:1.6165113962249251\n",
            "epoch: 36 loss:1.6208806428688252\n",
            "epoch: 37 loss:1.6314577397131762\n",
            "epoch: 38 loss:1.6569420865039952\n",
            "epoch: 39 loss:1.672421793274532\n",
            "epoch: 40 loss:1.6540196703759251\n",
            "epoch: 41 loss:1.6331550921035918\n",
            "epoch: 42 loss:1.6533653653220626\n",
            "epoch: 43 loss:1.6446420889816538\n",
            "epoch: 44 loss:1.6553073876740916\n",
            "epoch: 45 loss:1.6582939328736817\n",
            "epoch: 46 loss:1.6483807074313133\n",
            "epoch: 47 loss:1.6419825692050505\n",
            "epoch: 48 loss:1.6324161733223113\n",
            "epoch: 49 loss:1.623585324413729\n",
            "epoch: 50 loss:1.6072338385297762\n"
          ],
          "name": "stdout"
        }
      ]
    },
    {
      "metadata": {
        "id": "ph2wTVm3jvne",
        "colab_type": "code",
        "colab": {
          "base_uri": "https://localhost:8080/",
          "height": 34
        },
        "outputId": "d1ceb39c-8dba-49c3-9614-0a0c40ac12cc"
      },
      "cell_type": "code",
      "source": [
        "# Evaluate the model\n",
        "\n",
        "test_loss = 0\n",
        "step = 0\n",
        "\n",
        "for row_idx in range(len(test_set)):\n",
        "  # unsqueeze(0) adds the batch dimention to matrix (size of 1)\n",
        "  \n",
        "  input = test_set[row_idx,:].unsqueeze(0)\n",
        "  target = input.clone()\n",
        "  target.require_grad = False\n",
        "  input, target = input.to(device), target.to(device)\n",
        "  num_labels = torch.sum(target > 0)\n",
        "  if num_labels > 0:\n",
        "    step += 1\n",
        "    output = dae(input)\n",
        "    output[target == 0] = 0\n",
        "    loss = mse_loss_masked(output, target, num_labels)\n",
        "    loss_value = loss.detach().cpu().numpy()\n",
        "    test_loss += loss_value\n",
        "print(' Test loss:'+ str(test_loss/step))    \n",
        "    \n",
        "    \n",
        "  \n",
        "  \n",
        "  "
      ],
      "execution_count": 47,
      "outputs": [
        {
          "output_type": "stream",
          "text": [
            " Test loss:1.6438384054612285\n"
          ],
          "name": "stdout"
        }
      ]
    }
  ]
}